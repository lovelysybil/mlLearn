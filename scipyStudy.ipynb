{
 "cells": [
  {
   "cell_type": "code",
   "execution_count": 3,
   "metadata": {
    "collapsed": true
   },
   "outputs": [],
   "source": [
    "from scipy import io as spio\n",
    "import numpy as np"
   ]
  },
  {
   "cell_type": "code",
   "execution_count": 4,
   "metadata": {},
   "outputs": [
    {
     "data": {
      "text/plain": [
       "{'__globals__': [],\n '__header__': 'MATLAB 5.0 MAT-file Platform: nt, Created on: Sun Aug 27 11:27:30 2017',\n '__version__': '1.0',\n 'a': array([[ 1.,  1.,  1.],\n        [ 1.,  1.,  1.],\n        [ 1.,  1.,  1.]])}"
      ]
     },
     "execution_count": 4,
     "metadata": {},
     "output_type": "execute_result"
    }
   ],
   "source": [
    "a = np.ones((3,3))\n",
    "spio.savemat('file.mat', {'a': a})\n",
    "data = spio.loadmat('file.mat', struct_as_record = True)\n",
    "data"
   ]
  },
  {
   "cell_type": "markdown",
   "metadata": {},
   "source": []
  },
  {
   "cell_type": "markdown",
   "metadata": {},
   "source": []
  },
  {
   "cell_type": "code",
   "execution_count": 5,
   "metadata": {},
   "outputs": [],
   "source": [
    "import scipy.stats as stats"
   ]
  },
  {
   "cell_type": "code",
   "execution_count": 9,
   "metadata": {},
   "outputs": [
    {
     "data": {
      "text/plain": [
       "array([  7.32726898e-01,   1.17496128e+00,   1.26759726e-01,\n         8.75518854e-01,   4.80416578e-01,   1.78678019e+00,\n        -1.90254205e+00,  -1.88623075e-02,  -1.22902530e+00,\n         9.20026482e-01,  -1.18810085e+00,   3.77070267e-01,\n        -2.30923797e+00,  -1.39856927e+00,   3.50790966e-01,\n         6.07357494e-01,   1.50425368e+00,  -8.55062255e-01,\n         2.34770051e+00,  -1.26112063e+00,  -4.68702281e-02,\n         2.30909399e-01,   8.08242023e-01,  -3.38086249e-01,\n         1.12389863e+00,   9.58403387e-01,  -5.19544202e-01,\n        -2.18193635e-01,   1.34161768e+00,  -6.52718716e-02,\n        -9.07224472e-01,  -1.07288686e+00,   2.67315593e-01,\n         8.09153803e-01,  -1.56293621e-01,   7.55248924e-01,\n         1.58820255e-01,   1.08881407e+00,  -1.81079115e+00,\n        -1.47422259e+00,   1.47645156e-01,   6.98990669e-01,\n         3.38085530e-01,   8.69477627e-02,  -5.02185547e-01,\n         3.26322974e-01,   3.00908161e+00,  -1.54637360e+00,\n         1.84980679e+00,  -6.43621018e-01,   1.23657340e+00,\n        -1.77628559e+00,   6.03235755e-01,   7.66045993e-01,\n        -1.53608076e+00,  -1.07883770e+00,   1.41265475e+00,\n         1.08227523e+00,  -1.28756608e+00,  -4.36143519e-01,\n        -6.31375469e-01,   3.79484426e-01,   1.46752040e-01,\n        -3.30649394e-01,  -5.60036473e-01,   1.93334370e+00,\n        -1.82332657e+00,  -5.40660770e-01,   7.07294736e-01,\n         1.66679579e+00,  -3.38393078e-01,   2.46949148e+00,\n         5.16567078e-01,   3.52647606e-01,   8.74303409e-01,\n        -5.77459836e-01,   6.23557113e-01,   1.19811736e+00,\n         5.51820392e-01,   1.61551128e+00,  -6.57347442e-01,\n         2.28327244e-01,   1.13608188e+00,  -7.66325236e-03,\n         2.10140442e-01,   2.32339220e-01,  -4.58185395e-01,\n         1.50127854e+00,  -5.62235715e-01,  -2.84496970e-02,\n         3.20847769e-01,  -3.03384986e-01,   3.16442331e-01,\n        -4.84710880e-01,  -1.50929642e+00,  -7.65893845e-01,\n         2.52439455e+00,   1.35669725e-02,  -1.00115894e+00,\n        -1.96991015e+00,  -4.43054303e-01,   1.02484444e+00,\n        -4.67694545e-01,   1.25449664e-02,  -1.45779307e+00,\n         1.21166966e+00,  -1.56013343e+00,   5.91224267e-01,\n        -7.97993543e-01,  -4.14809921e-01,  -5.84299925e-01,\n         1.13583376e+00,   1.70144957e+00,  -1.52633838e+00,\n        -3.26819111e-01,   4.82033433e-01,  -1.57206797e+00,\n         1.13309755e+00,  -7.05137968e-01,  -1.47925071e+00,\n        -9.05527108e-01,  -4.89821376e-01,  -1.79713674e-01,\n         1.18347963e+00,   1.50207323e-02,  -2.43189561e+00,\n        -6.96232007e-01,  -1.40147980e+00,   6.82636801e-01,\n        -1.45391944e+00,  -3.72330776e-02,   1.16775058e+00,\n         1.03669404e+00,   3.19794314e-01,   1.81945544e-01,\n         4.33286648e-01,  -1.47642728e-01,  -1.61808822e+00,\n        -2.04308964e+00,  -3.26782419e-01,   4.25592310e-01,\n        -5.03385760e-01,  -3.77146390e-02,  -4.99389227e-01,\n         3.82622708e-01,   3.49221199e-01,   1.68024620e+00,\n         1.01676967e-01,   4.89950536e-01,   3.18233563e-01,\n         2.02370964e-01,   5.46082978e-01,  -1.98740515e-01,\n         3.39077009e-01,  -2.23122812e+00,   7.70099988e-01,\n         1.12008615e+00,  -3.89182950e-02,   3.36556951e-01,\n         1.97021893e+00,   3.24593593e-01,  -5.04204760e-01,\n        -1.43640614e+00,  -1.12145906e+00,   1.55818516e+00,\n        -5.83475297e-01,   1.12676989e-01,   1.39023530e+00,\n         7.84081342e-01,  -3.56569237e-01,   3.26937283e-01,\n         3.84571818e-02,  -7.70192331e-01,  -3.42812999e-01,\n        -9.58182980e-01,   8.20518283e-01,  -6.13155347e-01,\n         1.46113154e+00,   1.35942856e+00,   3.30303316e-01,\n        -1.05581474e+00,   3.44216767e-01,  -1.38731698e+00,\n         8.12703956e-01,  -3.18614455e-01,  -7.03099760e-01,\n         2.26000379e+00,  -3.75143828e-01,   1.15790336e+00,\n         4.63875536e-01,  -5.50441080e-01,   2.66901545e+00,\n         7.07703279e-01,   2.49869198e-01,  -7.68699412e-01,\n        -2.47250240e+00,   1.29866821e+00,   1.59260734e+00,\n        -7.82027712e-01,  -9.42351918e-02,  -1.45849189e+00,\n         4.74028605e-01,   1.39354901e+00,  -1.74044948e+00,\n         6.06870551e-01,   1.11060031e+00,   4.25397366e-01,\n         4.21407870e-01,  -6.12931485e-01,   2.34618878e+00,\n         1.38568907e+00,  -5.05099176e-01,  -1.81942344e-01,\n         2.48557888e-01,   2.10991405e+00,  -8.87120711e-01,\n         7.47199577e-01,   2.53577455e-01,   3.02445667e-02,\n         8.54067605e-01,  -6.56463639e-01,   8.49306244e-01,\n         1.88101376e-01,  -1.23793796e+00,  -1.38070581e+00,\n        -1.01747704e+00,  -8.79051691e-01,   1.38229626e+00,\n        -5.77589432e-01,   1.85749522e+00,  -1.33481120e-01,\n         1.29362884e+00,   2.55050574e-01,   1.06443257e+00,\n        -5.86366932e-02,  -2.16364961e-01,   5.01369067e-01,\n        -2.30843020e-01,  -3.20128027e-01,   6.43054450e-01,\n        -1.07852394e+00,  -5.58040431e-01,  -1.38274630e-01,\n        -7.04197604e-01,   6.78786939e-01,  -1.45013360e+00,\n         1.18746359e+00,   7.98841586e-01,  -7.16716209e-01,\n         3.07141371e-01,   1.11285642e+00,   3.92572110e-01,\n         2.36325082e-01,  -1.98005289e-01,  -7.98011348e-01,\n         1.26943658e+00,  -5.91115283e-01,  -1.84453183e-01,\n         1.90530416e+00,  -1.58612021e+00,   3.87895976e-01,\n         1.14471439e+00,  -1.09195665e-01,  -1.53801319e+00,\n         8.13707652e-02,   6.07867742e-01,  -4.12460502e-01,\n        -7.74838857e-02,   2.03776074e+00,  -1.67761587e+00,\n        -5.53198015e-01,   5.42449112e-01,   6.92149756e-01,\n        -3.14505393e+00,   9.44628502e-01,  -8.28456346e-01,\n         1.42990899e+00,  -2.11707120e+00,  -1.63386718e-02,\n        -3.10793063e-01,   2.13350882e-03,   1.02468041e+00,\n         1.50851707e+00,  -3.37743953e-01,  -1.18230513e+00,\n         9.96861122e-01,   3.13099824e-01,   7.11512542e-01,\n         5.36417000e-01,  -4.66700405e-01,  -1.22276593e+00,\n        -9.30971736e-01,  -1.04078512e+00,  -6.46849831e-01,\n         7.65795834e-01,   7.76554410e-01,  -1.28031374e+00,\n        -1.18351603e+00,  -6.75916730e-01,  -4.82964697e-01,\n        -3.81978868e-01,   2.64048852e-02,   9.84282244e-01,\n        -5.51053099e-01,  -2.71181853e-01,   2.63061625e-01,\n         1.07819019e+00,  -4.21139253e-01,   2.54478124e-01,\n         1.08477323e+00,   2.49307226e+00,  -3.68477715e-01,\n        -3.59811406e-01,  -3.07096483e-01,   2.95135795e-01,\n         2.88479430e-01,   8.39290022e-01,  -1.41038505e+00,\n         6.36331428e-01,   2.86031610e+00,   2.31768171e-01,\n         3.92682353e-01,  -4.16530677e-01,   1.73529339e-01,\n        -3.18582045e-01,   5.47430438e-01,   3.39601174e-01,\n         8.79574527e-01,  -1.05605756e+00,  -1.61336229e+00,\n         7.15129530e-01,  -7.07545968e-01,  -7.85891467e-01,\n        -1.52496852e+00,  -8.66198686e-01,   1.76243986e+00,\n        -1.15924896e+00,  -2.28342222e+00,   1.05978666e+00,\n        -4.38644350e-01,   1.46676874e+00,  -1.33843408e+00,\n         1.19383800e+00,   1.98712538e+00,  -1.67367301e-02,\n        -2.23353562e+00,  -1.02415632e+00,   7.08049704e-01,\n         1.20840122e+00,  -1.17594594e-01,   1.25174477e+00,\n         1.08827598e+00,  -8.45725609e-01,   1.55610993e+00,\n         1.59147312e+00,   3.80304724e-01,   1.70852587e-01,\n         1.48162917e+00,  -9.97147328e-01,  -2.72781341e-01,\n        -1.18529811e+00,  -3.97641803e-01,  -4.96932090e-01,\n         9.04902367e-01,  -9.85448332e-01,  -2.66243917e-01,\n        -2.91549225e-01,   9.30932292e-01,  -1.34988289e+00,\n         5.72825646e-01,   7.46236789e-01,  -1.16793740e+00,\n        -1.56045076e+00,   5.63204116e-01,   2.14540000e+00,\n        -1.88959041e+00,  -6.62267461e-01,  -6.76715455e-01,\n         6.48652784e-01,  -2.19045360e-01,  -2.27340619e+00,\n        -2.01185546e+00,  -2.76325343e-01,  -1.58995313e-01,\n         9.45356111e-01,  -7.55169248e-01,  -1.41457309e+00,\n         2.73185369e-01,   1.09135600e+00,   1.35874162e+00,\n        -7.34553467e-01,   2.10540964e+00,   3.53601364e-01,\n        -2.55345853e-01,  -9.42959699e-01,  -1.55177867e-01,\n        -2.90760262e-01,  -1.79257568e-01,   2.62611768e-01,\n        -1.32561942e+00,  -1.07728349e-01,  -2.28602601e-01,\n         7.29803939e-01,   5.76607256e-01,   2.66288671e-01,\n         6.79267117e-01,  -2.06266097e+00,  -3.45845246e-01,\n         9.10062667e-01,  -4.59511174e-01,  -1.35825435e+00,\n        -1.66705296e+00,   2.53608879e+00,  -8.92249293e-01,\n        -1.50451015e+00,   4.80261903e-01,  -1.52661084e+00,\n        -1.05947181e+00,  -3.06082167e-01,   2.37231522e-01,\n         5.69115075e-01,   1.03906571e-01,   1.68102652e+00,\n         1.21968711e+00,   4.09373419e-01,  -3.93073687e-01,\n         1.14457844e+00,  -1.71023678e+00,  -6.93908514e-01,\n        -4.06223054e-01,   3.67414720e-01,  -1.24846534e-01,\n         7.96004589e-01,  -6.13066439e-01,  -3.11385943e+00,\n         8.15719998e-01,   9.63526659e-01,  -1.03214707e-01,\n         5.68844729e-01,  -8.69874798e-01,  -2.24376783e+00,\n         1.24759207e+00,   7.79644404e-01,   6.12977907e-01,\n         3.97142658e-01,  -9.97739633e-01,   3.61651505e-01,\n         5.62249722e-02,   1.17934992e+00,  -8.14719087e-01,\n         4.47889038e-02,  -1.03165252e+00,  -1.33547207e+00,\n        -5.10707709e-01,   7.67827345e-01,   5.71035386e-01,\n         1.04343647e+00,  -3.05115448e-01,   2.36759776e-01,\n        -7.69679008e-01,   5.43372022e-01,   2.30254883e-01,\n         8.51423606e-01,   1.94163320e-01,   2.85840418e-01,\n         1.90100299e-01,  -1.58306470e+00,   2.57283027e+00,\n         1.13539873e+00,  -2.60623571e+00,  -1.25205767e+00,\n        -1.07894665e+00,   1.08719396e+00,  -8.96230178e-01,\n         2.45821338e+00,  -8.91827615e-01,   1.23366865e+00,\n        -2.78057582e-01,   3.05844204e-01,   5.55944964e-02,\n         1.19455630e+00,  -2.13277403e-01,  -1.46250159e+00,\n         2.94632430e-01,   1.83873235e+00,   7.00724716e-01,\n        -4.88616950e-01,  -2.29768974e+00,  -1.16903485e+00,\n        -2.24142349e-01,   4.25648508e-02,   2.26133308e-01,\n        -2.45660140e-01,  -1.10753867e+00,   7.33432173e-01,\n        -7.20496576e-02,  -2.19381997e+00,   9.49527460e-01,\n        -6.11361454e-02,   9.02341550e-01,   2.11140302e+00,\n        -1.66150041e-01,   1.57400791e+00,  -4.50930934e-01,\n        -2.97381070e-01,  -1.08973293e+00,  -9.34251491e-01,\n         2.13673219e-01,   4.50531369e-02,   1.71845749e+00,\n         1.49699108e+00,   8.65915343e-01,   1.58565977e+00,\n        -9.28782084e-02,   8.10970785e-01,  -2.39148498e+00,\n         1.46321908e+00,   6.04270067e-01,   6.03060535e-01,\n        -3.25467107e-01,   1.06101953e+00,  -1.01787160e+00,\n         8.39158921e-01,  -8.41867595e-02,   1.08204216e+00,\n        -7.54397224e-01,  -4.51703245e-01,  -1.38203498e+00,\n        -9.31766087e-02,  -7.98515016e-01,  -7.93496250e-01,\n         1.17041728e+00,  -3.78617994e-01,  -4.53231645e-01,\n         1.09747129e+00,   1.43875151e+00,   1.01195386e+00,\n        -2.49996952e-01,   1.67368089e-01,   9.34896258e-01,\n         1.10772824e+00,  -1.48373790e+00,   1.91534107e+00,\n        -7.56515677e-01,   2.30346130e-01,  -5.30651797e-01,\n         1.10057707e+00,  -3.29248245e-01,   3.40964356e-01,\n        -4.38321513e-02,  -1.01419577e+00,   1.34654139e+00,\n        -5.20048370e-02,  -2.07814641e+00,   9.73825762e-01,\n        -6.72816306e-01,   1.53780942e+00,  -5.48501217e-01,\n         6.58684262e-01,  -4.29386872e-01,   6.47571142e-01,\n        -1.03799461e+00,   9.47022765e-01,  -4.98380676e-01,\n         6.83594612e-01,   6.08891866e-01,   1.92880738e+00,\n         2.34461284e-01,   2.38484154e-01,  -2.22730548e-01,\n         6.91454082e-01,  -5.03678524e-01,   1.01369969e+00,\n        -1.25467049e+00,   1.65764300e+00,  -5.92779425e-01,\n         6.46199680e-01,  -2.24003640e+00,  -4.05899917e-01,\n         9.43574260e-01,  -1.37293224e+00,  -1.43645257e+00,\n        -6.38218491e-03,  -1.01234635e+00,  -1.56868233e+00,\n         7.22466048e-01,   8.32490471e-01,   1.42593487e+00,\n         4.23533871e-01,  -7.98522458e-01,  -3.90224657e-01,\n        -8.39669473e-01,  -1.49296598e-01,  -2.81664540e-01,\n         6.91661879e-01,  -8.27977326e-01,   7.65180273e-01,\n         1.06659600e+00,  -3.56338438e-01,   5.36080930e-01,\n        -9.68118509e-01,  -4.12621151e-01,  -6.68280508e-01,\n        -9.38643739e-01,   3.22680020e-01,   8.90516140e-01,\n         8.76356119e-01,   5.70307266e-01,  -1.07624551e-01,\n        -1.67025162e-01,   1.62909448e+00,  -6.84852187e-01,\n        -2.91761153e-01,   6.70120243e-01,  -1.79911898e-02,\n        -1.01232412e+00,  -1.37778234e+00,  -8.74585691e-01,\n         7.81005749e-01,  -5.70142200e-01,  -3.75881178e-01,\n        -6.43762753e-01,  -5.29627553e-01,  -7.06530126e-01,\n        -8.65232386e-01,   2.49034185e-01,  -1.10287154e+00,\n         6.56291812e-01,   2.79680584e+00,  -1.30570201e+00,\n        -2.00403114e-01,  -1.95755368e+00,   2.03573384e+00,\n         2.25330116e+00,  -1.28015671e+00,  -2.02584935e+00,\n         1.33792392e+00,  -3.30374118e-01,  -2.96050554e+00,\n         1.38475658e+00,   4.13190052e-01,   1.64930956e+00,\n         6.65252243e-01,   7.73753240e-01,  -5.64241179e-02,\n        -2.50971293e-01,   3.08865050e-01,   2.40885987e-01,\n        -1.03417551e+00,  -1.45766511e-01,  -8.81794135e-01,\n         4.81633907e-01,  -2.03803896e+00,   1.25761834e+00,\n        -6.28132502e-01,  -1.64071827e+00,   8.23366486e-01,\n        -7.80793896e-02,   6.07740005e-01,  -4.78707731e-01,\n         2.25482647e+00,   1.08509692e+00,  -1.01550606e-01,\n        -8.05140617e-01,  -8.21552396e-02,   1.65813450e-01,\n        -2.64109495e-01,  -8.06300962e-01,   5.92891124e-01,\n         2.62580957e-01,   2.13215218e-01,   7.17234021e-01,\n         1.24193896e+00,  -1.51171846e+00,  -8.57345692e-01,\n        -4.19677766e-01,   4.61512476e-01,   4.68823029e-01,\n        -2.91365807e-01,   2.37436684e+00,   9.07790952e-02,\n         5.83958824e-02,  -3.95601245e-02,   7.56882273e-02,\n         8.23726694e-01,   1.51612001e+00,  -1.98054256e+00,\n         1.97876867e+00,  -7.78512338e-02,   4.49877745e-01,\n         7.72274397e-01,   8.87931473e-01,   7.84777761e-01,\n        -3.39919239e-01,  -1.52463747e+00,  -4.22121509e-01,\n         9.48996430e-01,  -9.12309968e-02,   6.10246144e-01,\n         9.23108242e-01,  -5.52283456e-01,   1.84224913e+00,\n         1.99691392e-01,  -6.76663703e-02,  -4.10503694e-01,\n        -5.44148043e-01,   2.84153593e+00,   1.12852356e-01,\n         1.20649285e+00,   1.32820785e+00,   5.35114659e-01,\n        -1.45392410e+00,  -7.73636709e-01,  -6.45120796e-01,\n         5.16352705e-01,   1.04867561e+00,  -7.08715520e-01,\n        -9.82097865e-01,  -2.85666356e-01,   1.18363662e+00,\n        -2.84340832e-01,   1.52414097e-01,  -1.82055722e+00,\n         1.98187078e-01,   9.96071200e-01,   1.03212872e+00,\n        -4.87991780e-01,  -3.60179280e-02,   2.25709952e-01,\n        -9.41009700e-01,  -2.06903904e-01,  -9.73567605e-01,\n         2.37517204e-01,   5.44773385e-01,   4.40828231e-01,\n         2.51875254e+00,  -1.38938172e+00,  -5.22488090e-01,\n        -1.64113947e+00,   2.62722054e-01,  -1.39246975e+00,\n         4.41560399e-01,   9.10684761e-01,  -1.75924288e+00,\n        -3.16634356e-01,  -1.49362110e+00,  -1.44473854e+00,\n         1.34361628e+00,  -5.25129231e-01,   9.31370755e-01,\n         1.54173360e+00,  -1.19569659e+00,  -1.15486262e-01,\n         2.83650617e-01,   9.40593167e-01,   1.50890635e-01,\n         1.06468382e+00,  -1.75759131e-01,   4.56623966e-01,\n         1.43547221e+00,   3.69963956e-01,   6.63850976e-01,\n         7.24045886e-01,   4.28874407e-01,  -3.53578973e-01,\n        -2.09157917e+00,  -4.28269683e-01,  -4.28410081e-01,\n        -1.61748725e-01,   4.23823633e-01,   5.83271960e-01,\n         1.40379173e+00,  -7.02599251e-01,  -3.19757982e-02,\n         4.25372361e-02,   5.13033448e-01,   2.52095573e+00,\n        -1.03848140e-01,  -1.01062793e+00,   5.35799731e-01,\n         3.20567153e-02,  -3.12037038e-01,   2.70056487e-01,\n         2.03094526e+00,  -1.75444292e+00,  -1.83829781e-01,\n         8.47786318e-01,  -2.86189845e-01,  -6.91288121e-01,\n         2.30492099e-01,  -5.70526292e-01,   8.78035935e-01,\n        -6.82962339e-01,  -5.54317033e-01,  -6.38528682e-01,\n        -1.90226954e+00,  -1.29257878e+00,   4.58718942e-01,\n        -8.31428760e-01,  -4.62363873e-01,   1.43399318e+00,\n         3.92975434e-01,  -5.90578015e-02,   7.01686059e-01,\n        -1.18713106e+00,   4.24461287e-01,  -1.73359461e+00,\n         1.74581209e+00,   2.58002309e-02,  -1.29334705e+00,\n        -9.38745003e-01,   2.87981632e-02,  -7.04932969e-01,\n        -4.30482148e-01,  -2.33418130e-01,   2.00393392e-01,\n        -1.22574899e-01,   2.80013927e-01,  -1.06109339e+00,\n         5.55680276e-01,  -7.18674209e-01,   5.94681812e-01,\n        -7.32238762e-01,  -3.18839011e-01,   1.39731520e+00,\n        -1.75582350e-01,   7.63107344e-01,   3.21733196e-01,\n        -6.32028144e-01,  -9.19274633e-01,   8.35457836e-01,\n         5.26206754e-01,  -3.95159541e-01,  -1.77316281e-01,\n        -1.83613584e+00,  -3.57110530e-01,   7.53825211e-01,\n        -4.36495844e-01,  -5.87101328e-01,  -8.78313403e-01,\n         2.77116747e-01,  -6.80658569e-01,  -3.41374760e-02,\n        -6.36061941e-03,   1.00321029e-01,  -1.32592860e-01,\n         1.91504643e+00,   1.76386297e+00,  -9.74812127e-01,\n         6.96144185e-01,  -7.07823670e-01,  -1.89460344e-01,\n         1.68220854e+00,  -5.82691521e-01,   2.65065796e-01,\n        -1.87865394e-01,   9.28254545e-01,  -1.07914819e+00,\n         1.42883443e+00,   1.27080707e+00,   3.08852495e-01,\n         2.88313860e-01,   3.72550125e-02,   4.79645251e-01,\n        -1.31654258e-01,  -1.05117163e+00,  -6.89451520e-01,\n         1.28235596e-01,  -1.63908326e+00,  -6.06399870e-01,\n         5.79335704e-01,   1.12801901e+00,   8.80436162e-01,\n        -5.40627119e-01,   7.69499391e-01,   2.69038213e-01,\n         8.30167705e-01,  -1.15061459e+00,   8.33262165e-01,\n         6.06359075e-01,   1.16536421e+00,   1.85458415e+00,\n         1.38056965e+00,  -5.24649977e-01,   2.99406492e-01,\n         2.97496276e-02,   3.75234341e-01,   6.78734302e-01,\n        -6.72035941e-01,   5.17476913e-01,  -1.04539910e-01,\n        -1.49784857e+00,  -6.83229078e-01,   1.37860780e+00,\n        -1.19095527e+00,   2.86432032e-01,   6.38881264e-02,\n        -1.66384575e-01,  -1.09833715e-01,  -1.44308611e+00])"
      ]
     },
     "execution_count": 9,
     "metadata": {},
     "output_type": "execute_result"
    }
   ],
   "source": [
    "generated = stats.norm.rvs(size = 900)\n",
    "generated"
   ]
  },
  {
   "cell_type": "code",
   "execution_count": 10,
   "metadata": {},
   "outputs": [
    {
     "name": "stdout",
     "output_type": "stream",
     "text": [
      "('Mean = ', 0.033236242837909498, ', std = ', 1.0278859709995234)\n"
     ]
    }
   ],
   "source": [
    "Mean, std = stats.norm.fit(generated)\n",
    "print ('Mean = ', Mean, ', std = ', std)"
   ]
  },
  {
   "cell_type": "markdown",
   "metadata": {},
   "source": [
    "偏度（skewnes）描述的是概率分布的偏斜程度，我们需要做一个偏度检验。该检验有两个返回值，其中第二个返回值是p-value，即观察到的数据服从正态分布的概率，取值为0-1"
   ]
  },
  {
   "cell_type": "code",
   "execution_count": 11,
   "metadata": {},
   "outputs": [
    {
     "data": {
      "text/plain": [
       "SkewtestResult(statistic=-0.070687489336017956, pvalue=0.9436464779926037)"
      ]
     },
     "execution_count": 11,
     "metadata": {},
     "output_type": "execute_result"
    }
   ],
   "source": [
    "stats.skewtest(generated)"
   ]
  },
  {
   "cell_type": "markdown",
   "metadata": {},
   "source": []
  },
  {
   "cell_type": "code",
   "execution_count": 12,
   "metadata": {},
   "outputs": [
    {
     "data": {
      "text/plain": [
       "KurtosistestResult(statistic=-0.30918417685111177, pvalue=0.75718142966833413)"
      ]
     },
     "execution_count": 12,
     "metadata": {},
     "output_type": "execute_result"
    }
   ],
   "source": [
    "stats.kurtosistest(generated)"
   ]
  },
  {
   "cell_type": "markdown",
   "metadata": {},
   "source": []
  },
  {
   "cell_type": "code",
   "execution_count": 13,
   "metadata": {},
   "outputs": [
    {
     "data": {
      "text/plain": [
       "NormaltestResult(statistic=0.1005915763637292, pvalue=0.950948103686442)"
      ]
     },
     "execution_count": 13,
     "metadata": {},
     "output_type": "execute_result"
    }
   ],
   "source": [
    "stats.normaltest(generated)"
   ]
  },
  {
   "cell_type": "code",
   "execution_count": 14,
   "metadata": {},
   "outputs": [
    {
     "data": {
      "text/plain": [
       "1.6831705893339337"
      ]
     },
     "execution_count": 14,
     "metadata": {},
     "output_type": "execute_result"
    }
   ],
   "source": [
    "stats.scoreatpercentile(generated, 95)"
   ]
  },
  {
   "cell_type": "code",
   "execution_count": 15,
   "metadata": {},
   "outputs": [
    {
     "data": {
      "text/plain": [
       "82.777777777777771"
      ]
     },
     "execution_count": 15,
     "metadata": {},
     "output_type": "execute_result"
    }
   ],
   "source": [
    "stats.percentileofscore(generated, 1)"
   ]
  },
  {
   "cell_type": "code",
   "execution_count": 16,
   "metadata": {},
   "outputs": [],
   "source": [
    "import matplotlib.pyplot as plt"
   ]
  },
  {
   "cell_type": "code",
   "execution_count": 17,
   "metadata": {},
   "outputs": [
    {
     "data": {
      "image/png": "[encoded data removed]",
      "text/plain": [
       "<matplotlib.figure.Figure at 0x8e80898>"
      ]
     },
     "metadata": {},
     "output_type": "display_data"
    }
   ],
   "source": [
    "plt.hist(generated)\n",
    "plt.show()"
   ]
  },
  {
   "cell_type": "code",
   "execution_count": 18,
   "metadata": {},
   "outputs": [],
   "source": [
    "from scipy import fftpack"
   ]
  },
  {
   "cell_type": "code",
   "execution_count": null,
   "metadata": {},
   "outputs": [],
   "source": []
  },
  {
   "cell_type": "code",
   "execution_count": null,
   "metadata": {},
   "outputs": [],
   "source": []
  },
  {
   "cell_type": "code",
   "execution_count": null,
   "metadata": {},
   "outputs": [],
   "source": []
  },
  {
   "cell_type": "code",
   "execution_count": null,
   "metadata": {},
   "outputs": [],
   "source": []
  },
  {
   "cell_type": "code",
   "execution_count": null,
   "metadata": {},
   "outputs": [],
   "source": []
  },
  {
   "cell_type": "code",
   "execution_count": null,
   "metadata": {},
   "outputs": [],
   "source": []
  },
  {
   "cell_type": "code",
   "execution_count": null,
   "metadata": {},
   "outputs": [],
   "source": []
  },
  {
   "cell_type": "code",
   "execution_count": null,
   "metadata": {},
   "outputs": [],
   "source": []
  },
  {
   "cell_type": "code",
   "execution_count": null,
   "metadata": {},
   "outputs": [],
   "source": []
  },
  {
   "cell_type": "code",
   "execution_count": null,
   "metadata": {},
   "outputs": [],
   "source": []
  },
  {
   "cell_type": "code",
   "execution_count": null,
   "metadata": {},
   "outputs": [],
   "source": []
  },
  {
   "cell_type": "code",
   "execution_count": null,
   "metadata": {},
   "outputs": [],
   "source": []
  },
  {
   "cell_type": "code",
   "execution_count": null,
   "metadata": {},
   "outputs": [],
   "source": []
  },
  {
   "cell_type": "code",
   "execution_count": null,
   "metadata": {},
   "outputs": [],
   "source": []
  },
  {
   "cell_type": "code",
   "execution_count": null,
   "metadata": {},
   "outputs": [],
   "source": []
  },
  {
   "cell_type": "code",
   "execution_count": null,
   "metadata": {},
   "outputs": [],
   "source": []
  },
  {
   "cell_type": "code",
   "execution_count": null,
   "metadata": {},
   "outputs": [],
   "source": []
  },
  {
   "cell_type": "code",
   "execution_count": null,
   "metadata": {},
   "outputs": [],
   "source": []
  },
  {
   "cell_type": "code",
   "execution_count": null,
   "metadata": {},
   "outputs": [],
   "source": []
  },
  {
   "cell_type": "code",
   "execution_count": null,
   "metadata": {},
   "outputs": [],
   "source": []
  }
 ],
 "metadata": {
  "kernelspec": {
   "display_name": "Python 2",
   "language": "python",
   "name": "python2"
  },
  "language_info": {
   "codemirror_mode": {
    "name": "ipython",
    "version": 2
   },
   "file_extension": ".py",
   "mimetype": "text/x-python",
   "name": "python",
   "nbconvert_exporter": "python",
   "pygments_lexer": "ipython2",
   "version": "2.7.6"
  }
 },
 "nbformat": 4,
 "nbformat_minor": 0
}
